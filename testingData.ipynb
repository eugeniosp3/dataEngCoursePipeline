{
 "cells": [
  {
   "cell_type": "code",
   "execution_count": 4,
   "metadata": {},
   "outputs": [],
   "source": [
    "import pandas as pd\n",
    "\n",
    "# read parquet file \n",
    "df = pd.read_parquet('0-de835d27-690e-43fe-9275-e62ab6ed89d1-0.parquet')"
   ]
  },
  {
   "cell_type": "code",
   "execution_count": 5,
   "metadata": {},
   "outputs": [
    {
     "data": {
      "text/html": [
       "<div>\n",
       "<style scoped>\n",
       "    .dataframe tbody tr th:only-of-type {\n",
       "        vertical-align: middle;\n",
       "    }\n",
       "\n",
       "    .dataframe tbody tr th {\n",
       "        vertical-align: top;\n",
       "    }\n",
       "\n",
       "    .dataframe thead th {\n",
       "        text-align: right;\n",
       "    }\n",
       "</style>\n",
       "<table border=\"1\" class=\"dataframe\">\n",
       "  <thead>\n",
       "    <tr style=\"text-align: right;\">\n",
       "      <th></th>\n",
       "      <th>Device ID</th>\n",
       "      <th>Timestamp</th>\n",
       "      <th>Temperature</th>\n",
       "      <th>Humidity</th>\n",
       "      <th>Battery Level</th>\n",
       "      <th>Signal Strength</th>\n",
       "      <th>Motion Detected</th>\n",
       "      <th>Light Level</th>\n",
       "      <th>Pressure</th>\n",
       "      <th>Status</th>\n",
       "      <th>Event Count</th>\n",
       "      <th>Error Code</th>\n",
       "      <th>Data Usage</th>\n",
       "    </tr>\n",
       "  </thead>\n",
       "  <tbody>\n",
       "    <tr>\n",
       "      <th>0</th>\n",
       "      <td>2505</td>\n",
       "      <td>2023-11-22 21:28:44.527711</td>\n",
       "      <td>-13.568005</td>\n",
       "      <td>37.961451</td>\n",
       "      <td>30.275041</td>\n",
       "      <td>-20.426582</td>\n",
       "      <td>True</td>\n",
       "      <td>204.001105</td>\n",
       "      <td>915.844271</td>\n",
       "      <td>inactive</td>\n",
       "      <td>1</td>\n",
       "      <td>99</td>\n",
       "      <td>291.987181</td>\n",
       "    </tr>\n",
       "  </tbody>\n",
       "</table>\n",
       "</div>"
      ],
      "text/plain": [
       "   Device ID                  Timestamp  Temperature   Humidity  \\\n",
       "0       2505 2023-11-22 21:28:44.527711   -13.568005  37.961451   \n",
       "\n",
       "   Battery Level  Signal Strength Motion Detected  Light Level    Pressure  \\\n",
       "0      30.275041       -20.426582            True   204.001105  915.844271   \n",
       "\n",
       "     Status  Event Count  Error Code  Data Usage  \n",
       "0  inactive            1          99  291.987181  "
      ]
     },
     "execution_count": 5,
     "metadata": {},
     "output_type": "execute_result"
    }
   ],
   "source": [
    "df"
   ]
  },
  {
   "cell_type": "code",
   "execution_count": null,
   "metadata": {},
   "outputs": [],
   "source": []
  }
 ],
 "metadata": {
  "kernelspec": {
   "display_name": "plotly-tailwind",
   "language": "python",
   "name": "python3"
  },
  "language_info": {
   "codemirror_mode": {
    "name": "ipython",
    "version": 3
   },
   "file_extension": ".py",
   "mimetype": "text/x-python",
   "name": "python",
   "nbconvert_exporter": "python",
   "pygments_lexer": "ipython3",
   "version": "3.12.0"
  }
 },
 "nbformat": 4,
 "nbformat_minor": 2
}
